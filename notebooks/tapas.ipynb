{
 "cells": [
  {
   "cell_type": "code",
   "execution_count": 1,
   "metadata": {},
   "outputs": [],
   "source": [
    "import pandas as pd\n",
    "import torch\n",
    "import requests"
   ]
  },
  {
   "cell_type": "code",
   "execution_count": 2,
   "metadata": {},
   "outputs": [
    {
     "name": "stderr",
     "output_type": "stream",
     "text": [
      "/home/pranjaltimsina/anaconda3/envs/pytorchgpu/lib/python3.10/site-packages/tqdm/auto.py:21: TqdmWarning: IProgress not found. Please update jupyter and ipywidgets. See https://ipywidgets.readthedocs.io/en/stable/user_install.html\n",
      "  from .autonotebook import tqdm as notebook_tqdm\n"
     ]
    }
   ],
   "source": [
    "from transformers import TapasTokenizer, TapasForQuestionAnswering"
   ]
  },
  {
   "cell_type": "code",
   "execution_count": null,
   "metadata": {},
   "outputs": [],
   "source": [
    "from transformers import pipeline, set_seed\n"
   ]
  },
  {
   "cell_type": "code",
   "execution_count": 5,
   "metadata": {},
   "outputs": [],
   "source": [
    "tapas_model_name = \"google/tapas-base-finetuned-sqa\"\n",
    "tapas_model = TapasForQuestionAnswering.from_pretrained(tapas_model_name)"
   ]
  },
  {
   "cell_type": "code",
   "execution_count": 6,
   "metadata": {},
   "outputs": [],
   "source": [
    "output_model_file = '../models/tapas.bin'\n",
    "output_vocab_file = '../models/tapas_vocab.bin'\n",
    "torch.save(tapas_model, output_model_file)"
   ]
  },
  {
   "cell_type": "code",
   "execution_count": 7,
   "metadata": {},
   "outputs": [],
   "source": [
    "tapas_tokenizer = TapasTokenizer.from_pretrained(tapas_model_name)"
   ]
  },
  {
   "cell_type": "code",
   "execution_count": 8,
   "metadata": {},
   "outputs": [
    {
     "data": {
      "text/plain": [
       "('../models/tapas_vocab.bin',)"
      ]
     },
     "execution_count": 8,
     "metadata": {},
     "output_type": "execute_result"
    }
   ],
   "source": [
    "tapas_tokenizer.save_vocabulary(output_vocab_file)"
   ]
  },
  {
   "cell_type": "code",
   "execution_count": 9,
   "metadata": {},
   "outputs": [
    {
     "data": {
      "text/html": [
       "<div>\n",
       "<style scoped>\n",
       "    .dataframe tbody tr th:only-of-type {\n",
       "        vertical-align: middle;\n",
       "    }\n",
       "\n",
       "    .dataframe tbody tr th {\n",
       "        vertical-align: top;\n",
       "    }\n",
       "\n",
       "    .dataframe thead th {\n",
       "        text-align: right;\n",
       "    }\n",
       "</style>\n",
       "<table border=\"1\" class=\"dataframe\">\n",
       "  <thead>\n",
       "    <tr style=\"text-align: right;\">\n",
       "      <th></th>\n",
       "      <th>Brand</th>\n",
       "      <th>Model</th>\n",
       "      <th>Case Material</th>\n",
       "      <th>Strap Material</th>\n",
       "      <th>Movement Type</th>\n",
       "      <th>Water Resistance</th>\n",
       "      <th>Case Diameter (mm)</th>\n",
       "      <th>Case Thickness (mm)</th>\n",
       "      <th>Band Width (mm)</th>\n",
       "      <th>Dial Color</th>\n",
       "      <th>Crystal Material</th>\n",
       "      <th>Complications</th>\n",
       "      <th>Power Reserve</th>\n",
       "      <th>Price (USD)</th>\n",
       "    </tr>\n",
       "  </thead>\n",
       "  <tbody>\n",
       "    <tr>\n",
       "      <th>0</th>\n",
       "      <td>Rolex</td>\n",
       "      <td>Submariner</td>\n",
       "      <td>Stainless Steel</td>\n",
       "      <td>Stainless Steel</td>\n",
       "      <td>Automatic</td>\n",
       "      <td>300 meters</td>\n",
       "      <td>40.0</td>\n",
       "      <td>13.0</td>\n",
       "      <td>20</td>\n",
       "      <td>Black</td>\n",
       "      <td>Sapphire</td>\n",
       "      <td>Date</td>\n",
       "      <td>48 hours</td>\n",
       "      <td>9,500</td>\n",
       "    </tr>\n",
       "    <tr>\n",
       "      <th>1</th>\n",
       "      <td>Omega</td>\n",
       "      <td>Seamaster</td>\n",
       "      <td>Titanium</td>\n",
       "      <td>Rubber</td>\n",
       "      <td>Automatic</td>\n",
       "      <td>600 meters</td>\n",
       "      <td>43.5</td>\n",
       "      <td>14.47</td>\n",
       "      <td>21</td>\n",
       "      <td>Blue</td>\n",
       "      <td>Sapphire</td>\n",
       "      <td>Date</td>\n",
       "      <td>60 hours</td>\n",
       "      <td>5,800</td>\n",
       "    </tr>\n",
       "  </tbody>\n",
       "</table>\n",
       "</div>"
      ],
      "text/plain": [
       "   Brand       Model    Case Material   Strap Material Movement Type  \\\n",
       "0  Rolex  Submariner  Stainless Steel  Stainless Steel     Automatic   \n",
       "1  Omega   Seamaster         Titanium           Rubber     Automatic   \n",
       "\n",
       "  Water Resistance Case Diameter (mm) Case Thickness (mm) Band Width (mm)  \\\n",
       "0       300 meters               40.0                13.0              20   \n",
       "1       600 meters               43.5               14.47              21   \n",
       "\n",
       "  Dial Color Crystal Material Complications Power Reserve Price (USD)  \n",
       "0      Black         Sapphire          Date      48 hours       9,500  \n",
       "1       Blue         Sapphire          Date      60 hours       5,800  "
      ]
     },
     "execution_count": 9,
     "metadata": {},
     "output_type": "execute_result"
    }
   ],
   "source": [
    "# table = pd.read_csv(\"../data/TestEnglishData.csv\")\n",
    "table = pd.read_csv(\"../data/Luxury watch.csv\")\n",
    "table = table.astype(str)\n",
    "table.head(2)"
   ]
  },
  {
   "cell_type": "code",
   "execution_count": 10,
   "metadata": {},
   "outputs": [
    {
     "data": {
      "text/plain": [
       "'Servants'"
      ]
     },
     "execution_count": 10,
     "metadata": {},
     "output_type": "execute_result"
    }
   ],
   "source": [
    "### Nepali to english\n",
    "def translate_text(text, source_lang=\"en\", target_lang=\"ne\"):\n",
    "    url = \"https://api.mymemory.translated.net/get\"\n",
    "    params = {\n",
    "        \"q\": text,\n",
    "        \"langpair\": f\"{source_lang}|{target_lang}\",\n",
    "    }\n",
    "    response = requests.get(url, params=params)\n",
    "    data = response.json()\n",
    "    translated_text = data[\"responseData\"][\"translatedText\"]\n",
    "    return translated_text\n",
    "\n",
    "query=\"सेवकहरू\"\n",
    "translated=translate_text(query,\"ne\",\"en\")\n",
    "translated"
   ]
  },
  {
   "cell_type": "code",
   "execution_count": 11,
   "metadata": {},
   "outputs": [
    {
     "data": {
      "text/plain": [
       "'प्रश्न / जवाफ'"
      ]
     },
     "execution_count": 11,
     "metadata": {},
     "output_type": "execute_result"
    }
   ],
   "source": [
    "query=\"Nearest destination to the villa which is close to Indira Gandhi Airport\"\n",
    "query=\"Question Answer\"\n",
    "translated=translate_text(query,\"en\",\"ne\")\n",
    "translated"
   ]
  },
  {
   "cell_type": "code",
   "execution_count": 12,
   "metadata": {},
   "outputs": [],
   "source": [
    "def get_answer(question, table, tokenizer, model, nepali_query=None):\n",
    "    if type(question) != list:\n",
    "        question = [question]\n",
    "        nepali_query = [nepali_query]\n",
    "        \n",
    "    inputs = tokenizer(table=table, queries=question, padding=\"max_length\", return_tensors=\"pt\")\n",
    "    outputs = model(**inputs)\n",
    "\n",
    "    ans = tokenizer.convert_logits_to_predictions(\n",
    "        inputs, outputs.logits.detach()\n",
    "    )\n",
    "    for i, a in enumerate(ans[0]):\n",
    "        print(\"प्रश्न: \", nepali_query[i])\n",
    "        print(\"जवाफ:\")\n",
    "        for x in a:\n",
    "            print(translate_text(str(table.iloc[x]),\"en\",\"ne\"))\n",
    "        print(\"-------------------------------------------\")"
   ]
  },
  {
   "cell_type": "code",
   "execution_count": 13,
   "metadata": {},
   "outputs": [],
   "source": [
    "def get_answer_in_nepali(nepali_query, table, tokenizer, model):\n",
    "    english_query=translate_text(nepali_query,\"ne\",\"en\")\n",
    "    get_answer(english_query, table, tokenizer, model, nepali_query)"
   ]
  },
  {
   "cell_type": "code",
   "execution_count": 14,
   "metadata": {},
   "outputs": [
    {
     "name": "stdout",
     "output_type": "stream",
     "text": [
      "प्रश्न:  भिलाको निकटतम गन्तव्य जुन इन्दिरा गान्धी एयरपोर्टको नजिक छ\n",
      "जवाफ:\n",
      "Hamilton\n",
      "-------------------------------------------\n"
     ]
    }
   ],
   "source": [
    "get_answer_in_nepali('भिलाको निकटतम गन्तव्य जुन इन्दिरा गान्धी एयरपोर्टको नजिक छ', table, tapas_tokenizer, tapas_model)"
   ]
  },
  {
   "cell_type": "code",
   "execution_count": null,
   "metadata": {},
   "outputs": [],
   "source": [
    "\n",
    "generator = pipeline('text2text-generation', model='facebook/mbart-large-50')\n",
    "set_seed(42)"
   ]
  },
  {
   "cell_type": "code",
   "execution_count": 112,
   "metadata": {},
   "outputs": [
    {
     "name": "stdout",
     "output_type": "stream",
     "text": [
      "Question: Strap color of the watch made by rolex? Answer: Stainless Steel\n"
     ]
    }
   ],
   "source": [
    "question = \"Strap color of the watch made by rolex\"\n",
    "question = [question]\n",
    "inputs = tapas_tokenizer(table=table, queries=question, padding=\"max_length\", return_tensors=\"pt\")\n",
    "outputs = tapas_model(**inputs)\n",
    "\n",
    "ans = tapas_tokenizer.convert_logits_to_predictions(\n",
    "    inputs, outputs.logits.detach()\n",
    ")\n",
    "ans = ans[0][0]\n",
    "answer_cells=[str(table.iloc[i])for i in ans]\n",
    "text=\", \".join(answer_cells)\n",
    "new_text = \"Question: \" + question[0] + \"? \" + \"Answer: \" + text \n",
    "\n",
    "print(new_text)"
   ]
  },
  {
   "cell_type": "code",
   "execution_count": 113,
   "metadata": {},
   "outputs": [
    {
     "data": {
      "text/plain": [
       "[{'generated_text': 'Question: Strap color of the watch made by rolex? Answer: Stainless Steel'},\n",
       " {'generated_text': 'Question: Strap color of the watch made by rolx? Answer: Stainless Steel'},\n",
       " {'generated_text': 'Question: Strap color of the Watch made by rolex? Answer: Stainless Steel'},\n",
       " {'generated_text': 'Question: Strap color of the watch made by rolex?'},\n",
       " {'generated_text': 'Question: What is the color of the watch made by rolex?'}]"
      ]
     },
     "execution_count": 113,
     "metadata": {},
     "output_type": "execute_result"
    }
   ],
   "source": [
    "\n",
    "generator(new_text, max_length=150, num_return_sequences=5)\n"
   ]
  },
  {
   "cell_type": "code",
   "execution_count": null,
   "metadata": {},
   "outputs": [],
   "source": []
  }
 ],
 "metadata": {
  "kernelspec": {
   "display_name": "pytorchgpu",
   "language": "python",
   "name": "python3"
  },
  "language_info": {
   "codemirror_mode": {
    "name": "ipython",
    "version": 3
   },
   "file_extension": ".py",
   "mimetype": "text/x-python",
   "name": "python",
   "nbconvert_exporter": "python",
   "pygments_lexer": "ipython3",
   "version": "3.10.9"
  },
  "orig_nbformat": 4
 },
 "nbformat": 4,
 "nbformat_minor": 2
}
