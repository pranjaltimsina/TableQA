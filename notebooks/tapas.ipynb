{
 "cells": [
  {
   "cell_type": "code",
   "execution_count": 1,
   "metadata": {},
   "outputs": [
    {
     "name": "stderr",
     "output_type": "stream",
     "text": [
      "/home/pranjaltimsina/anaconda3/envs/pytorchgpu/lib/python3.10/site-packages/tqdm/auto.py:21: TqdmWarning: IProgress not found. Please update jupyter and ipywidgets. See https://ipywidgets.readthedocs.io/en/stable/user_install.html\n",
      "  from .autonotebook import tqdm as notebook_tqdm\n"
     ]
    }
   ],
   "source": [
    "from transformers import TapasTokenizer, TapasForQuestionAnswering\n",
    "import pandas as pd\n",
    "import torch\n",
    "import requests"
   ]
  },
  {
   "cell_type": "code",
   "execution_count": 92,
   "metadata": {},
   "outputs": [
    {
     "name": "stderr",
     "output_type": "stream",
     "text": [
      "Downloading: 100%|██████████| 1.55k/1.55k [00:00<00:00, 1.86MB/s]\n",
      "Downloading: 100%|██████████| 443M/443M [00:33<00:00, 13.3MB/s]   \n"
     ]
    }
   ],
   "source": [
    "\n",
    "model_name = \"google/tapas-base-finetuned-sqa\"\n",
    "model = TapasForQuestionAnswering.from_pretrained(model_name)\n"
   ]
  },
  {
   "cell_type": "code",
   "execution_count": 2,
   "metadata": {},
   "outputs": [],
   "source": [
    "output_model_file = '../models/tapas.bin'\n",
    "output_vocab_file = '../models/tapas_vocab.bin'"
   ]
  },
  {
   "cell_type": "code",
   "execution_count": 4,
   "metadata": {},
   "outputs": [],
   "source": [
    "model_name = \"google/tapas-base-finetuned-sqa\""
   ]
  },
  {
   "cell_type": "code",
   "execution_count": 5,
   "metadata": {},
   "outputs": [],
   "source": [
    "tokenizer = TapasTokenizer.from_pretrained(model_name)"
   ]
  },
  {
   "cell_type": "code",
   "execution_count": 95,
   "metadata": {},
   "outputs": [],
   "source": [
    "torch.save(model, output_model_file)"
   ]
  },
  {
   "cell_type": "code",
   "execution_count": 96,
   "metadata": {},
   "outputs": [
    {
     "data": {
      "text/plain": [
       "('../models/tapas_vocab.bin',)"
      ]
     },
     "execution_count": 96,
     "metadata": {},
     "output_type": "execute_result"
    }
   ],
   "source": [
    "tokenizer.save_vocabulary(output_vocab_file)"
   ]
  },
  {
   "cell_type": "code",
   "execution_count": 3,
   "metadata": {},
   "outputs": [],
   "source": [
    "model = torch.load(output_model_file)"
   ]
  },
  {
   "cell_type": "code",
   "execution_count": 6,
   "metadata": {},
   "outputs": [],
   "source": [
    "table = pd.read_csv(\"../data/TestEnglishData.csv\")\n"
   ]
  },
  {
   "cell_type": "code",
   "execution_count": 7,
   "metadata": {},
   "outputs": [
    {
     "data": {
      "text/plain": [
       "Villa Name             object\n",
       "Location               object\n",
       "Maximum Occupancy       int64\n",
       "Country                object\n",
       "Nearest Destination    object\n",
       "Nearest Airport        object\n",
       "Swimming Pool          object\n",
       "Laundry                object\n",
       "Kitchen                object\n",
       "Servants               object\n",
       "dtype: object"
      ]
     },
     "execution_count": 7,
     "metadata": {},
     "output_type": "execute_result"
    }
   ],
   "source": [
    "table.dtypes"
   ]
  },
  {
   "cell_type": "code",
   "execution_count": 8,
   "metadata": {},
   "outputs": [],
   "source": [
    "table = table.astype(str)"
   ]
  },
  {
   "cell_type": "code",
   "execution_count": 9,
   "metadata": {},
   "outputs": [
    {
     "data": {
      "text/plain": [
       "Villa Name             object\n",
       "Location               object\n",
       "Maximum Occupancy      object\n",
       "Country                object\n",
       "Nearest Destination    object\n",
       "Nearest Airport        object\n",
       "Swimming Pool          object\n",
       "Laundry                object\n",
       "Kitchen                object\n",
       "Servants               object\n",
       "dtype: object"
      ]
     },
     "execution_count": 9,
     "metadata": {},
     "output_type": "execute_result"
    }
   ],
   "source": [
    "table.dtypes"
   ]
  },
  {
   "cell_type": "code",
   "execution_count": 10,
   "metadata": {},
   "outputs": [
    {
     "data": {
      "text/html": [
       "<div>\n",
       "<style scoped>\n",
       "    .dataframe tbody tr th:only-of-type {\n",
       "        vertical-align: middle;\n",
       "    }\n",
       "\n",
       "    .dataframe tbody tr th {\n",
       "        vertical-align: top;\n",
       "    }\n",
       "\n",
       "    .dataframe thead th {\n",
       "        text-align: right;\n",
       "    }\n",
       "</style>\n",
       "<table border=\"1\" class=\"dataframe\">\n",
       "  <thead>\n",
       "    <tr style=\"text-align: right;\">\n",
       "      <th></th>\n",
       "      <th>Villa Name</th>\n",
       "      <th>Location</th>\n",
       "      <th>Maximum Occupancy</th>\n",
       "      <th>Country</th>\n",
       "      <th>Nearest Destination</th>\n",
       "      <th>Nearest Airport</th>\n",
       "      <th>Swimming Pool</th>\n",
       "      <th>Laundry</th>\n",
       "      <th>Kitchen</th>\n",
       "      <th>Servants</th>\n",
       "    </tr>\n",
       "  </thead>\n",
       "  <tbody>\n",
       "    <tr>\n",
       "      <th>0</th>\n",
       "      <td>Giri Villa</td>\n",
       "      <td>Kathmandu</td>\n",
       "      <td>10</td>\n",
       "      <td>Nepal</td>\n",
       "      <td>Boudha</td>\n",
       "      <td>Tribhuvan International airport</td>\n",
       "      <td>Yes</td>\n",
       "      <td>Yes</td>\n",
       "      <td>Yes</td>\n",
       "      <td>Yes</td>\n",
       "    </tr>\n",
       "    <tr>\n",
       "      <th>1</th>\n",
       "      <td>Vellore Villa</td>\n",
       "      <td>Vellore</td>\n",
       "      <td>3</td>\n",
       "      <td>India</td>\n",
       "      <td>Vellore Fort</td>\n",
       "      <td>Bangalore International Airport</td>\n",
       "      <td>No</td>\n",
       "      <td>No</td>\n",
       "      <td>Yes</td>\n",
       "      <td>Yes</td>\n",
       "    </tr>\n",
       "    <tr>\n",
       "      <th>2</th>\n",
       "      <td>Bangalore Walas</td>\n",
       "      <td>Bangalore</td>\n",
       "      <td>70</td>\n",
       "      <td>India</td>\n",
       "      <td>Garden</td>\n",
       "      <td>Bangalore International Airport</td>\n",
       "      <td>No</td>\n",
       "      <td>No</td>\n",
       "      <td>No</td>\n",
       "      <td>No</td>\n",
       "    </tr>\n",
       "    <tr>\n",
       "      <th>3</th>\n",
       "      <td>Coffee Villa</td>\n",
       "      <td>Delhi</td>\n",
       "      <td>7</td>\n",
       "      <td>Nepal</td>\n",
       "      <td>Pashupatinanth</td>\n",
       "      <td>Indira Gandhi airport</td>\n",
       "      <td>No</td>\n",
       "      <td>Yes</td>\n",
       "      <td>Yes</td>\n",
       "      <td>Yes</td>\n",
       "    </tr>\n",
       "  </tbody>\n",
       "</table>\n",
       "</div>"
      ],
      "text/plain": [
       "        Villa Name   Location Maximum Occupancy Country Nearest Destination  \\\n",
       "0       Giri Villa  Kathmandu                10   Nepal              Boudha   \n",
       "1    Vellore Villa    Vellore                 3   India        Vellore Fort   \n",
       "2  Bangalore Walas  Bangalore                70   India              Garden   \n",
       "3     Coffee Villa      Delhi                 7   Nepal      Pashupatinanth   \n",
       "\n",
       "                   Nearest Airport Swimming Pool Laundry Kitchen Servants  \n",
       "0  Tribhuvan International airport           Yes     Yes     Yes      Yes  \n",
       "1  Bangalore International Airport            No      No     Yes      Yes  \n",
       "2  Bangalore International Airport            No      No      No       No  \n",
       "3            Indira Gandhi airport            No     Yes     Yes      Yes  "
      ]
     },
     "execution_count": 10,
     "metadata": {},
     "output_type": "execute_result"
    }
   ],
   "source": [
    "table"
   ]
  },
  {
   "cell_type": "code",
   "execution_count": 11,
   "metadata": {},
   "outputs": [
    {
     "data": {
      "text/plain": [
       "'Servants'"
      ]
     },
     "execution_count": 11,
     "metadata": {},
     "output_type": "execute_result"
    }
   ],
   "source": [
    "### Nepali to english\n",
    "def translate_text(text, source_lang=\"en\", target_lang=\"ne\"):\n",
    "    url = \"https://api.mymemory.translated.net/get\"\n",
    "    params = {\n",
    "        \"q\": text,\n",
    "        \"langpair\": f\"{source_lang}|{target_lang}\",\n",
    "    }\n",
    "    response = requests.get(url, params=params)\n",
    "    data = response.json()\n",
    "    translated_text = data[\"responseData\"][\"translatedText\"]\n",
    "    return translated_text\n",
    "\n",
    "query=\"सेवकहरू\"\n",
    "translated=translate_text(query,\"ne\",\"en\")\n",
    "translated"
   ]
  },
  {
   "cell_type": "code",
   "execution_count": 12,
   "metadata": {},
   "outputs": [
    {
     "data": {
      "text/plain": [
       "'प्रश्न / जवाफ'"
      ]
     },
     "execution_count": 12,
     "metadata": {},
     "output_type": "execute_result"
    }
   ],
   "source": [
    "query=\"Nearest destination to the villa which is close to Indira Gandhi Airport\"\n",
    "query=\"Question Answer\"\n",
    "translated=translate_text(query,\"en\",\"ne\")\n",
    "translated"
   ]
  },
  {
   "cell_type": "code",
   "execution_count": 13,
   "metadata": {},
   "outputs": [],
   "source": [
    "def get_answer(question, table, tokenizer, model, nepali_query=None):\n",
    "    if type(question) != list:\n",
    "        question = [question]\n",
    "        nepali_query = [nepali_query]\n",
    "        \n",
    "    inputs = tokenizer(table=table, queries=question, padding=\"max_length\", return_tensors=\"pt\")\n",
    "    outputs = model(**inputs)\n",
    "\n",
    "    ans = tokenizer.convert_logits_to_predictions(\n",
    "        inputs, outputs.logits.detach()\n",
    "    )\n",
    "    for i, a in enumerate(ans[0]):\n",
    "        print(\"प्रश्न: \", nepali_query[i])\n",
    "        print(\"जवाफ:\")\n",
    "        for x in a:\n",
    "            print(translate_text(str(table.iloc[x]),\"en\",\"ne\"))\n",
    "        print(\"-------------------------------------------\")"
   ]
  },
  {
   "cell_type": "code",
   "execution_count": 14,
   "metadata": {},
   "outputs": [
    {
     "data": {
      "text/html": [
       "<div>\n",
       "<style scoped>\n",
       "    .dataframe tbody tr th:only-of-type {\n",
       "        vertical-align: middle;\n",
       "    }\n",
       "\n",
       "    .dataframe tbody tr th {\n",
       "        vertical-align: top;\n",
       "    }\n",
       "\n",
       "    .dataframe thead th {\n",
       "        text-align: right;\n",
       "    }\n",
       "</style>\n",
       "<table border=\"1\" class=\"dataframe\">\n",
       "  <thead>\n",
       "    <tr style=\"text-align: right;\">\n",
       "      <th></th>\n",
       "      <th>Villa Name</th>\n",
       "      <th>Location</th>\n",
       "      <th>Maximum Occupancy</th>\n",
       "      <th>Country</th>\n",
       "      <th>Nearest Destination</th>\n",
       "      <th>Nearest Airport</th>\n",
       "      <th>Swimming Pool</th>\n",
       "      <th>Laundry</th>\n",
       "      <th>Kitchen</th>\n",
       "      <th>Servants</th>\n",
       "    </tr>\n",
       "  </thead>\n",
       "  <tbody>\n",
       "    <tr>\n",
       "      <th>0</th>\n",
       "      <td>Giri Villa</td>\n",
       "      <td>Kathmandu</td>\n",
       "      <td>10</td>\n",
       "      <td>Nepal</td>\n",
       "      <td>Boudha</td>\n",
       "      <td>Tribhuvan International airport</td>\n",
       "      <td>Yes</td>\n",
       "      <td>Yes</td>\n",
       "      <td>Yes</td>\n",
       "      <td>Yes</td>\n",
       "    </tr>\n",
       "    <tr>\n",
       "      <th>1</th>\n",
       "      <td>Vellore Villa</td>\n",
       "      <td>Vellore</td>\n",
       "      <td>3</td>\n",
       "      <td>India</td>\n",
       "      <td>Vellore Fort</td>\n",
       "      <td>Bangalore International Airport</td>\n",
       "      <td>No</td>\n",
       "      <td>No</td>\n",
       "      <td>Yes</td>\n",
       "      <td>Yes</td>\n",
       "    </tr>\n",
       "    <tr>\n",
       "      <th>2</th>\n",
       "      <td>Bangalore Walas</td>\n",
       "      <td>Bangalore</td>\n",
       "      <td>70</td>\n",
       "      <td>India</td>\n",
       "      <td>Garden</td>\n",
       "      <td>Bangalore International Airport</td>\n",
       "      <td>No</td>\n",
       "      <td>No</td>\n",
       "      <td>No</td>\n",
       "      <td>No</td>\n",
       "    </tr>\n",
       "    <tr>\n",
       "      <th>3</th>\n",
       "      <td>Coffee Villa</td>\n",
       "      <td>Delhi</td>\n",
       "      <td>7</td>\n",
       "      <td>Nepal</td>\n",
       "      <td>Pashupatinanth</td>\n",
       "      <td>Indira Gandhi airport</td>\n",
       "      <td>No</td>\n",
       "      <td>Yes</td>\n",
       "      <td>Yes</td>\n",
       "      <td>Yes</td>\n",
       "    </tr>\n",
       "  </tbody>\n",
       "</table>\n",
       "</div>"
      ],
      "text/plain": [
       "        Villa Name   Location Maximum Occupancy Country Nearest Destination  \\\n",
       "0       Giri Villa  Kathmandu                10   Nepal              Boudha   \n",
       "1    Vellore Villa    Vellore                 3   India        Vellore Fort   \n",
       "2  Bangalore Walas  Bangalore                70   India              Garden   \n",
       "3     Coffee Villa      Delhi                 7   Nepal      Pashupatinanth   \n",
       "\n",
       "                   Nearest Airport Swimming Pool Laundry Kitchen Servants  \n",
       "0  Tribhuvan International airport           Yes     Yes     Yes      Yes  \n",
       "1  Bangalore International Airport            No      No     Yes      Yes  \n",
       "2  Bangalore International Airport            No      No      No       No  \n",
       "3            Indira Gandhi airport            No     Yes     Yes      Yes  "
      ]
     },
     "execution_count": 14,
     "metadata": {},
     "output_type": "execute_result"
    }
   ],
   "source": [
    "table"
   ]
  },
  {
   "cell_type": "code",
   "execution_count": 15,
   "metadata": {},
   "outputs": [],
   "source": [
    "def get_answer_in_nepali(nepali_query, table, tokenizer, model):\n",
    "    english_query=translate_text(nepali_query,\"ne\",\"en\")\n",
    "    get_answer(english_query, table, tokenizer, model, nepali_query)"
   ]
  },
  {
   "cell_type": "code",
   "execution_count": 16,
   "metadata": {},
   "outputs": [
    {
     "name": "stdout",
     "output_type": "stream",
     "text": [
      "प्रश्न:  भिलाको निकटतम गन्तव्य जुन इन्दिरा गान्धी एयरपोर्टको नजिक छ\n",
      "जवाफ:\n",
      "पशुपतिनाथ\n",
      "-------------------------------------------\n"
     ]
    }
   ],
   "source": [
    "get_answer_in_nepali('भिलाको निकटतम गन्तव्य जुन इन्दिरा गान्धी एयरपोर्टको नजिक छ', table, tokenizer, model)"
   ]
  },
  {
   "cell_type": "code",
   "execution_count": 21,
   "metadata": {},
   "outputs": [
    {
     "name": "stdout",
     "output_type": "stream",
     "text": [
      "query:\n",
      " Nearest destination to the villa which is close to Indira Gandhi Airport\n",
      "answer\n",
      "Pashupatinanth\n",
      "-------------------------------------------\n"
     ]
    }
   ],
   "source": [
    "question = \"Nearest destination to the villa which is close to Indira Gandhi Airport\"\n",
    "question = [question]\n",
    "inputs = tokenizer(table=table, queries=question, padding=\"max_length\", return_tensors=\"pt\")\n",
    "outputs = model(**inputs)\n",
    "\n",
    "ans = tokenizer.convert_logits_to_predictions(\n",
    "    inputs, outputs.logits.detach()\n",
    ")\n",
    "for i, a in enumerate(ans[0]):\n",
    "    print(\"query:\\n\", question[i])\n",
    "    print(\"answer\")\n",
    "    for x in a:\n",
    "        print(str(table.iloc[x]))\n",
    "    print(\"-------------------------------------------\")"
   ]
  },
  {
   "cell_type": "code",
   "execution_count": 22,
   "metadata": {},
   "outputs": [
    {
     "data": {
      "text/html": [
       "<div>\n",
       "<style scoped>\n",
       "    .dataframe tbody tr th:only-of-type {\n",
       "        vertical-align: middle;\n",
       "    }\n",
       "\n",
       "    .dataframe tbody tr th {\n",
       "        vertical-align: top;\n",
       "    }\n",
       "\n",
       "    .dataframe thead th {\n",
       "        text-align: right;\n",
       "    }\n",
       "</style>\n",
       "<table border=\"1\" class=\"dataframe\">\n",
       "  <thead>\n",
       "    <tr style=\"text-align: right;\">\n",
       "      <th></th>\n",
       "      <th>Villa Name</th>\n",
       "      <th>Location</th>\n",
       "      <th>Maximum Occupancy</th>\n",
       "      <th>Country</th>\n",
       "      <th>Nearest Destination</th>\n",
       "      <th>Nearest Airport</th>\n",
       "      <th>Swimming Pool</th>\n",
       "      <th>Laundry</th>\n",
       "      <th>Kitchen</th>\n",
       "      <th>Servants</th>\n",
       "    </tr>\n",
       "  </thead>\n",
       "  <tbody>\n",
       "    <tr>\n",
       "      <th>0</th>\n",
       "      <td>Giri Villa</td>\n",
       "      <td>Kathmandu</td>\n",
       "      <td>10</td>\n",
       "      <td>Nepal</td>\n",
       "      <td>Boudha</td>\n",
       "      <td>Tribhuvan International airport</td>\n",
       "      <td>Yes</td>\n",
       "      <td>Yes</td>\n",
       "      <td>Yes</td>\n",
       "      <td>Yes</td>\n",
       "    </tr>\n",
       "    <tr>\n",
       "      <th>1</th>\n",
       "      <td>Vellore Villa</td>\n",
       "      <td>Vellore</td>\n",
       "      <td>3</td>\n",
       "      <td>India</td>\n",
       "      <td>Vellore Fort</td>\n",
       "      <td>Bangalore International Airport</td>\n",
       "      <td>No</td>\n",
       "      <td>No</td>\n",
       "      <td>Yes</td>\n",
       "      <td>Yes</td>\n",
       "    </tr>\n",
       "    <tr>\n",
       "      <th>2</th>\n",
       "      <td>Bangalore Walas</td>\n",
       "      <td>Bangalore</td>\n",
       "      <td>70</td>\n",
       "      <td>India</td>\n",
       "      <td>Garden</td>\n",
       "      <td>Bangalore International Airport</td>\n",
       "      <td>No</td>\n",
       "      <td>No</td>\n",
       "      <td>No</td>\n",
       "      <td>No</td>\n",
       "    </tr>\n",
       "    <tr>\n",
       "      <th>3</th>\n",
       "      <td>Coffee Villa</td>\n",
       "      <td>Delhi</td>\n",
       "      <td>7</td>\n",
       "      <td>Nepal</td>\n",
       "      <td>Pashupatinanth</td>\n",
       "      <td>Indira Gandhi airport</td>\n",
       "      <td>No</td>\n",
       "      <td>Yes</td>\n",
       "      <td>Yes</td>\n",
       "      <td>Yes</td>\n",
       "    </tr>\n",
       "  </tbody>\n",
       "</table>\n",
       "</div>"
      ],
      "text/plain": [
       "        Villa Name   Location Maximum Occupancy Country Nearest Destination  \\\n",
       "0       Giri Villa  Kathmandu                10   Nepal              Boudha   \n",
       "1    Vellore Villa    Vellore                 3   India        Vellore Fort   \n",
       "2  Bangalore Walas  Bangalore                70   India              Garden   \n",
       "3     Coffee Villa      Delhi                 7   Nepal      Pashupatinanth   \n",
       "\n",
       "                   Nearest Airport Swimming Pool Laundry Kitchen Servants  \n",
       "0  Tribhuvan International airport           Yes     Yes     Yes      Yes  \n",
       "1  Bangalore International Airport            No      No     Yes      Yes  \n",
       "2  Bangalore International Airport            No      No      No       No  \n",
       "3            Indira Gandhi airport            No     Yes     Yes      Yes  "
      ]
     },
     "execution_count": 22,
     "metadata": {},
     "output_type": "execute_result"
    }
   ],
   "source": [
    "table"
   ]
  },
  {
   "cell_type": "code",
   "execution_count": null,
   "metadata": {},
   "outputs": [],
   "source": []
  }
 ],
 "metadata": {
  "kernelspec": {
   "display_name": "pytorchgpu",
   "language": "python",
   "name": "python3"
  },
  "language_info": {
   "codemirror_mode": {
    "name": "ipython",
    "version": 3
   },
   "file_extension": ".py",
   "mimetype": "text/x-python",
   "name": "python",
   "nbconvert_exporter": "python",
   "pygments_lexer": "ipython3",
   "version": "3.10.9"
  },
  "orig_nbformat": 4
 },
 "nbformat": 4,
 "nbformat_minor": 2
}
